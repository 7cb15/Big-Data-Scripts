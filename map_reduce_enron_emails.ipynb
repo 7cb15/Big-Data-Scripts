{
 "cells": [
  {
   "cell_type": "markdown",
   "metadata": {},
   "source": [
    "# Finding Reciprocal Email Exchanges from the Enron Email DB"
   ]
  },
  {
   "cell_type": "markdown",
   "metadata": {},
   "source": [
    "Quick generator functions in a map-reduce framework to find enron employees who have sent and received emails from one another."
   ]
  },
  {
   "cell_type": "code",
   "execution_count": 16,
   "metadata": {
    "scrolled": true
   },
   "outputs": [
    {
     "data": {
      "text/plain": [
       "[('recipropcal', 'Brenda Whitehead : Elizabeth Sager'),\n",
       " ('recipropcal', 'Carol Clair : Debra Perlingiere'),\n",
       " ('recipropcal', 'Carol Clair : Mark Taylor'),\n",
       " ('recipropcal', 'Carol Clair : Richard Sanders'),\n",
       " ('recipropcal', 'Carol Clair : Sara Shackleton'),\n",
       " ('recipropcal', 'Carol Clair : Tana Jones'),\n",
       " ('recipropcal', 'Debra Perlingiere : Kevin Ruscitti'),\n",
       " ('recipropcal', 'Drew Fossum : Susan Scott'),\n",
       " ('recipropcal', 'Elizabeth Sager : Janette Elbertson'),\n",
       " ('recipropcal', 'Elizabeth Sager : Mark Haedicke'),\n",
       " ('recipropcal', 'Elizabeth Sager : Mark Taylor'),\n",
       " ('recipropcal', 'Elizabeth Sager : Richard Sanders'),\n",
       " ('recipropcal', 'Eric Bass : Susan Scott'),\n",
       " ('recipropcal', 'Fletcher Sturm : Greg Whalley'),\n",
       " ('recipropcal', 'Fletcher Sturm : Sally Beck'),\n",
       " ('recipropcal', 'Gerald Nemec : Susan Scott'),\n",
       " ('recipropcal', 'Grant Masson : Vince Kaminski'),\n",
       " ('recipropcal', 'Greg Whalley : Richard Sanders'),\n",
       " ('recipropcal', 'Janette Elbertson : Mark Taylor'),\n",
       " ('recipropcal', 'Janette Elbertson : Richard Sanders'),\n",
       " ('recipropcal', 'Liz Taylor : Mark Haedicke'),\n",
       " ('recipropcal', 'Mark Haedicke : Mark Taylor'),\n",
       " ('recipropcal', 'Mark Haedicke : Michelle Cash'),\n",
       " ('recipropcal', 'Mark Haedicke : Richard Sanders'),\n",
       " ('recipropcal', 'Mark Haedicke : Twanda Sweet'),\n",
       " ('recipropcal', 'Mark Taylor : Sara Shackleton'),\n",
       " ('recipropcal', 'Mark Taylor : Tana Jones'),\n",
       " ('recipropcal', 'Michelle Cash : Twanda Sweet'),\n",
       " ('recipropcal', 'Pinnamaneni Krishnarao : Vince Kaminski'),\n",
       " ('recipropcal', 'Richard Sanders : Sara Shackleton'),\n",
       " ('recipropcal', 'Rosalee Fleming : Steven Kean'),\n",
       " ('recipropcal', 'Sara Shackleton : Tana Jones'),\n",
       " ('recipropcal', 'Shirley Crenshaw : Vince Kaminski'),\n",
       " ('recipropcal', 'Stinson Gibner : Vince Kaminski'),\n",
       " ('recipropcal', 'Vasant Shanbhogue : Vince Kaminski')]"
      ]
     },
     "execution_count": 16,
     "metadata": {},
     "output_type": "execute_result"
    }
   ],
   "source": [
    "import csv\n",
    "import mapreduce as mr\n",
    "\n",
    "def mapper1(_,line):\n",
    "    if ('@enron.com' in line['From']) & ('@enron.com' in line['To']):\n",
    "        for i in line['To'].replace(\"@enron.com\",\"\").replace(\".\", \" \").split(\";\"):\n",
    "            yield (line['From'].replace(\".\", \" \").split(\"@\")[0], i)\n",
    "\n",
    "def reducer1(tup1,tup2):\n",
    "    yield (tup1, set(tup2))\n",
    "    \n",
    "def mapper2(tup1,tup2):\n",
    "    for i in tup2: \n",
    "        yield (i,tup1) \n",
    "    \n",
    "def reducer2(tup1,tup2):\n",
    "    yield (tup1, set(tup2))\n",
    "\n",
    "def mapper3(tup1,tup2): \n",
    "    for i in tup2:\n",
    "        yield (sorted(set((i,tup1))) , 1)\n",
    "\n",
    "def reducer3(tup,count):\n",
    "    yield (tup,sum(count))\n",
    "    \n",
    "def mapper4(tup,count):\n",
    "    if count>1:\n",
    "        tup = \" : \".join(tup).title()\n",
    "        yield ('recipropcal',tup)\n",
    "        \n",
    "with open('enron_mails_small.csv', 'r') as fi:\n",
    "    reader = enumerate(csv.DictReader(fi))\n",
    "    #output1 = list(mr.run(reader,mapper1,reducer1))\n",
    "    output1 = list(mr.run(mr.run(mr.run(mr.run(reader,mapper1,reducer1),mapper2,reducer2),mapper3,reducer3),mapper4))\n",
    "    \n",
    "output1"
   ]
  }
 ],
 "metadata": {
  "kernelspec": {
   "display_name": "Python 3",
   "language": "python",
   "name": "python3"
  },
  "language_info": {
   "codemirror_mode": {
    "name": "ipython",
    "version": 3
   },
   "file_extension": ".py",
   "mimetype": "text/x-python",
   "name": "python",
   "nbconvert_exporter": "python",
   "pygments_lexer": "ipython3",
   "version": "3.6.4"
  }
 },
 "nbformat": 4,
 "nbformat_minor": 1
}
